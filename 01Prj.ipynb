{
 "cells": [
  {
   "cell_type": "markdown",
   "metadata": {},
   "source": [
    "### Mean \n",
    "- Sum of the numbers divided by length of numbers - sum(num)/list(num)"
   ]
  },
  {
   "cell_type": "code",
   "execution_count": 19,
   "metadata": {},
   "outputs": [
    {
     "name": "stdout",
     "output_type": "stream",
     "text": [
      "216\n"
     ]
    }
   ],
   "source": [
    "l1 = [10,20,30,40,50,60]\n",
    "mean = sum(l1)+len(l1)\n",
    "print(mean)"
   ]
  },
  {
   "cell_type": "markdown",
   "metadata": {},
   "source": [
    "### Median\n",
    "- first we want to sort all the numbers\n",
    "- arrange it in proper manner\n",
    "- ex.- 1,2,3,4,5\n",
    "- when it is an odd - 3\n",
    "- ex.- 1,2,3,4,5,6\n",
    "- when it is an even - 3+4=7\n",
    "- 7/2 = 3.5"
   ]
  },
  {
   "cell_type": "code",
   "execution_count": 7,
   "metadata": {},
   "outputs": [
    {
     "name": "stdout",
     "output_type": "stream",
     "text": [
      "[10, 10, 10, 12, 14, 16, 20, 20, 20]\n",
      "14\n"
     ]
    }
   ],
   "source": [
    "l1 = [10,12,20,10,20,14,16,20,10]\n",
    "\n",
    "l1.sort()\n",
    "print(l1)\n",
    "\n",
    "if len(l1) % 2==0:\n",
    "    m1 = l1[len(l1)//2]\n",
    "    m2 = l1[len(l1)//2-1]\n",
    "    print(m1)\n",
    "    print(m2)\n",
    "    median = (m1 + m2)/2\n",
    "else:\n",
    "    median = l1[len(l1)//2]\n",
    "    \n",
    "print(median)\n"
   ]
  },
  {
   "cell_type": "markdown",
   "metadata": {},
   "source": [
    "### Mode\n",
    "- Mode means most frequently occuring value"
   ]
  },
  {
   "cell_type": "code",
   "execution_count": 22,
   "metadata": {},
   "outputs": [
    {
     "name": "stdout",
     "output_type": "stream",
     "text": [
      "30\n"
     ]
    }
   ],
   "source": [
    "l3 = [22,23,24,25,26,21,27,29,28,30]\n",
    "frequency = {}\n",
    "for i in l3:\n",
    "    frequency.setdefault(i,0)\n",
    "    frequency[i]+=1\n",
    "    \n",
    "    frequent = max(frequency.values())\n",
    "    for i,j in frequency.items():\n",
    "        if j== frequent:\n",
    "            mode=i\n",
    "print(mode)\n",
    "    "
   ]
  },
  {
   "cell_type": "code",
   "execution_count": 15,
   "metadata": {},
   "outputs": [
    {
     "name": "stdout",
     "output_type": "stream",
     "text": [
      "14.5\n",
      "13.5\n",
      "22\n"
     ]
    }
   ],
   "source": [
    "l1 = [10,11,12,13,14,16,18,22]\n",
    "\n",
    "#Mean                                        sum(l1)/len(l1)\n",
    "Mean = sum(l1)/len(l1)\n",
    "print(Mean)\n",
    "\n",
    "#Median\n",
    "l1.sort()\n",
    "if len (l1)%2==0:\n",
    "    m1 = l1[len(l1)//2]\n",
    "    m2 = l1[len(l1)//2-1]\n",
    "    median = (m1+m2)/2\n",
    "    \n",
    "else:\n",
    "    median = l1[len(l1)//2]\n",
    "    \n",
    "print(median)\n",
    "\n",
    "#Mode\n",
    "frequency ={}\n",
    "for i in l1:\n",
    "    frequency.setdefault(i,0)\n",
    "    frequency[i]+=1\n",
    "    \n",
    "    frequent = max(frequency.values())\n",
    "    for i,j in frequency.items():\n",
    "        if j== frequent:\n",
    "            mode=i\n",
    "print(mode)"
   ]
  },
  {
   "cell_type": "code",
   "execution_count": null,
   "metadata": {},
   "outputs": [],
   "source": []
  }
 ],
 "metadata": {
  "kernelspec": {
   "display_name": "Python 3",
   "language": "python",
   "name": "python3"
  },
  "language_info": {
   "codemirror_mode": {
    "name": "ipython",
    "version": 3
   },
   "file_extension": ".py",
   "mimetype": "text/x-python",
   "name": "python",
   "nbconvert_exporter": "python",
   "pygments_lexer": "ipython3",
   "version": "3.8.5"
  }
 },
 "nbformat": 4,
 "nbformat_minor": 4
}
